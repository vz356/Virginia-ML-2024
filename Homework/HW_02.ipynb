{
 "cells": [
  {
   "cell_type": "markdown",
   "metadata": {},
   "source": [
    "__Homework 2__\n",
    "-\n",
    "\n",
    "__Due Date:__ 2022-10-16 at 8:30 AM PT\n",
    "\n",
    "\n",
    "__Name:__ Virginia"
   ]
  }
 ],
 "metadata": {
  "kernelspec": {
   "display_name": "Python 3",
   "language": "python",
   "name": "python3"
  },
  "language_info": {
   "name": "python",
   "version": "3.12.7"
  }
 },
 "nbformat": 4,
 "nbformat_minor": 2
}
