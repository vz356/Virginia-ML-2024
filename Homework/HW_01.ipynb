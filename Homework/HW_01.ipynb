{
 "cells": [
  {
   "cell_type": "markdown",
   "metadata": {},
   "source": [
    "__Homework 1__\n",
    "-\n",
    "\n",
    "__Name:__ Virginia\n",
    "\n",
    "\n",
    "__Question 1:__ Use a programming language of your choice to save today's date to a variable.\n",
    "Then, include the date in the text below the code block.\n"
   ]
  },
  {
   "cell_type": "code",
   "execution_count": 14,
   "metadata": {},
   "outputs": [
    {
     "name": "stdout",
     "output_type": "stream",
     "text": [
      "Today's Date Is  2024-10-13\n"
     ]
    }
   ],
   "source": [
    "from datetime import date\n",
    "\n",
    "todays_date = date.today()\n",
    "print(\"Today's Date Is \", todays_date)"
   ]
  }
 ],
 "metadata": {
  "kernelspec": {
   "display_name": "Python 3",
   "language": "python",
   "name": "python3"
  },
  "language_info": {
   "codemirror_mode": {
    "name": "ipython",
    "version": 3
   },
   "file_extension": ".py",
   "mimetype": "text/x-python",
   "name": "python",
   "nbconvert_exporter": "python",
   "pygments_lexer": "ipython3",
   "version": "3.12.7"
  }
 },
 "nbformat": 4,
 "nbformat_minor": 2
}
